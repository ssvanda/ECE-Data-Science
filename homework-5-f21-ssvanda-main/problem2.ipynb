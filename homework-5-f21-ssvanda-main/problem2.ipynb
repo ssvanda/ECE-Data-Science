{
 "cells": [
  {
   "cell_type": "code",
   "execution_count": 29,
   "source": [
    "#Problem 1\r\n",
    "import numpy as np\r\n",
    "from scipy.stats import norm\r\n",
    "from scipy.stats import t\r\n",
    "\r\n",
    "c = .90 #confidence interval\r\n",
    "\r\n",
    "data = [-23, -16, -3, -9, -1, 13, -16, 15, 31, -22, -14, -25]\r\n",
    "dataLength = len(data)\r\n",
    "dataMean = np.mean(data)\r\n",
    "print(\"The sample mean of the data is \" + str(dataMean))\r\n",
    "SE = (np.std(data, ddof=(1))) / np.sqrt(dataLength)\r\n",
    "print(\"The standard error of the data is \" + str(SE))\r\n",
    "\r\n",
    "t_c = t.ppf(1 - (1 - c)/2, df = (dataLength -1))\r\n",
    "print(\"The t score for this data set at at a confidence interval of {} is {}.\".format(c,t_c))\r\n",
    "lower = dataMean - (t_c * SE)\r\n",
    "upper = dataMean + (t_c * SE)\r\n",
    "print(\"The interval of this data for a confidence interval of {} is from {} to {}\".format(c, lower, upper))\r\n",
    "\r\n"
   ],
   "outputs": [
    {
     "output_type": "stream",
     "name": "stdout",
     "text": [
      "The sample mean of the data is -5.833333333333333\n",
      "The standard error of the data is 5.062987100895912\n",
      "The t score for this data set at at a confidence interval of 0.9 is 1.7958848187036691.\n",
      "The interval of this data for a confidence interval of 0.9 is from -14.925875005124801 to 3.2592083384581363\n"
     ]
    }
   ],
   "metadata": {}
  },
  {
   "cell_type": "markdown",
   "source": [
    "Problem 2: Confidence Intervals\r\n",
    "1. For this test I would use a t-test because of the smaller size of the sample.\r\n",
    "The sample mean of the data is -5.833333333333333\r\n",
    "The standard error of the data is 5.062987100895912\r\n",
    "The t score for this data set at at a confidence interval of 0.9 is 1.7958848187036691.\r\n",
    "The interval of this data for a confidence interval of 0.9 is from -14.925875005124801 to  3.2592083384581363"
   ],
   "metadata": {}
  },
  {
   "cell_type": "code",
   "execution_count": 16,
   "source": [
    "#Problem 2\r\n",
    "import numpy as np\r\n",
    "from scipy.stats import norm\r\n",
    "from scipy.stats import t\r\n",
    "\r\n",
    "c = .95 #confidence interval\r\n",
    "\r\n",
    "data = [-23, -16, -3, -9, -1, 13, -16, 15, 31, -22, -14, -25]\r\n",
    "dataLength = len(data)\r\n",
    "dataMean = np.mean(data)\r\n",
    "print(\"The sample mean of the data is \" + str(dataMean))\r\n",
    "SE = (np.std(data, ddof=(1))) / np.sqrt(dataLength)\r\n",
    "print(\"The standard error of the data is \" + str(SE))\r\n",
    "\r\n",
    "t_c = t.ppf(1 - (1 - c)/2, df = (dataLength - 1))\r\n",
    "print(\"The t score for this data set at at a confidence interval of {} is {}.\".format(c,t_c))\r\n",
    "lower = dataMean - (t_c * SE)\r\n",
    "upper = dataMean + (t_c * SE)\r\n",
    "print(\"The interval of this data for a confidence interval of {} is from {} to {}\".format(c, lower, upper))\r\n"
   ],
   "outputs": [
    {
     "output_type": "stream",
     "name": "stdout",
     "text": [
      "The sample mean of the data is -5.833333333333333\n",
      "The standard error of the data is 16.792028532080998\n",
      "The t score for this data set at at a confidence interval of 0.95 is 2.200985160082949.\n",
      "The interval of this data for a confidence interval of 0.95 is from -42.79233894013308 to 31.12567227346641\n"
     ]
    }
   ],
   "metadata": {}
  },
  {
   "cell_type": "markdown",
   "source": [
    "Problem 2: Confidence Intervals\r\n",
    "2. \r\n",
    "The sample mean of the data is -5.833333333333333\r\n",
    "The standard error of the data is 5.062987100895912\r\n",
    "The t score for this data set at at a confidence interval of 0.95 is 2.200985160082949.\r\n",
    "The interval of this data for a confidence interval of 0.95 is from -16.976892808096625 to 5.31022614142996\r\n",
    "\r\n",
    "With a confidence interval of 95%, it appears as though our t score has increased and our interval has become wider. The standard error and mean remained the same in both conditions."
   ],
   "metadata": {}
  },
  {
   "cell_type": "code",
   "execution_count": 11,
   "source": [
    "#Problem 3\r\n",
    "import numpy as np\r\n",
    "from scipy.stats import norm\r\n",
    "from scipy.stats import t\r\n",
    "sd = 16.836\r\n",
    "c = .95 #confidence interval\r\n",
    "\r\n",
    "data = [-23, -16, -3, -9, -1, 13, -16, 15, 31, -22, -14, -25]\r\n",
    "dataLength = len(data)\r\n",
    "dataMean = np.mean(data)\r\n",
    "print(\"The sample mean of the data is \" + str(dataMean))\r\n",
    "SE = (sd) / np.sqrt(dataLength)\r\n",
    "print(\"The standard error of the data is \" + str(SE))\r\n",
    "\r\n",
    "t_c = t.ppf(1 - (1 - c)/2, df = (dataLength - 1))\r\n",
    "print(\"The t score for this data set at at a confidence interval of {} is {}.\".format(c,t_c))\r\n",
    "lower = dataMean - (t_c * SE)\r\n",
    "upper = dataMean + (t_c * SE)\r\n",
    "print(\"The interval of this data for a confidence interval of {} is from {} to {}\".format(c, lower, upper))\r\n"
   ],
   "outputs": [
    {
     "output_type": "stream",
     "name": "stdout",
     "text": [
      "The sample mean of the data is -5.833333333333333\n",
      "The standard error of the data is 4.860134566038269\n",
      "The t score for this data set at at a confidence interval of 0.95 is 2.200985160082949.\n",
      "The interval of this data for a confidence interval of 0.95 is from -16.530417389189747 to 4.86375072252308\n"
     ]
    }
   ],
   "metadata": {}
  },
  {
   "cell_type": "markdown",
   "source": [
    "Problem 2: Confidence Intervals\r\n",
    "3.\r\n",
    "Due to the sample size still being less than 30, we will still use a t test to perform this experiement, with the added difference of using our newfound standard deviation to calculate our standard error. \r\n",
    "This leaves us with the following data:\r\n",
    "The sample mean of the data is -5.833333333333333\r\n",
    "The standard error of the data is 4.860134566038269\r\n",
    "The t score for this data set at at a confidence interval of 0.95 is 2.200985160082949.\r\n",
    "The interval of this data for a confidence interval of 0.95 is from -16.530417389189747 to 4.86375072252308\r\n",
    "\r\n",
    "With this new standard deviation, our confidence interval has shrunk as a result of our smaller standard error in comparison to problem 2, but it is still larger than problem 1. The t score and mean did not change with a new standard deviation."
   ],
   "metadata": {}
  },
  {
   "cell_type": "code",
   "execution_count": 41,
   "source": [
    "#Problem 4\r\n",
    "import numpy as np\r\n",
    "from scipy.stats import norm\r\n",
    "from scipy.stats import t\r\n",
    "#looking for upper to be equal to 0\r\n",
    "upper = 0\r\n",
    "\r\n",
    "data = [-23, -16, -3, -9, -1, 13, -16, 15, 31, -22, -14, -25]\r\n",
    "dataLength = len(data)\r\n",
    "dataMean = np.mean(data)\r\n",
    "print(\"The sample mean of the data is \" + str(dataMean))\r\n",
    "SE = (np.std(data, ddof=(1))) / np.sqrt(dataLength)\r\n",
    "print(\"The standard error of the data is \" + str(SE))\r\n",
    "t_c = (upper - dataMean) / SE\r\n",
    "print(\"The T score of the data is \" + str(t_c))\r\n",
    "#t_c = t.ppf(1 - (1 - c)/2, df = (dataLength - 1))\r\n",
    "#print(\"The t score for this data set at at a confidence interval of {} is {}.\".format(c,t_c))\r\n",
    "#lower = dataMean - (t_c * SE)\r\n",
    "#upper = dataMean + (t_c * SE)\r\n",
    "#print(\"The interval of this data for a confidence interval of {} is from {} to {}\".format(c, lower, upper))\r\n",
    "#p = t.cdf(t_c, df = (dataLength - 1))\r\n",
    "p = t.cdf(-abs(t_c), df = (dataLength - 1))\r\n",
    "p = 1 - p\r\n",
    "print(\"The probability that the team will lose is \" + str(p))\r\n",
    "print(\"We can say with 86.31582571446504% confidence that this team will lose on average.\")"
   ],
   "outputs": [
    {
     "output_type": "stream",
     "name": "stdout",
     "text": [
      "The sample mean of the data is -5.833333333333333\n",
      "The standard error of the data is 5.062987100895912\n",
      "The T score of the data is 1.152152517295789\n",
      "The probability that the team will lose is 0.8631582571446504\n"
     ]
    }
   ],
   "metadata": {}
  },
  {
   "cell_type": "markdown",
   "source": [
    "Problem 2: Confidence Intervals\r\n",
    "4. We can say with 86.31582571446504% confidence that this team will lose on average."
   ],
   "metadata": {}
  }
 ],
 "metadata": {
  "orig_nbformat": 4,
  "language_info": {
   "name": "python",
   "version": "3.9.7",
   "mimetype": "text/x-python",
   "codemirror_mode": {
    "name": "ipython",
    "version": 3
   },
   "pygments_lexer": "ipython3",
   "nbconvert_exporter": "python",
   "file_extension": ".py"
  },
  "kernelspec": {
   "name": "python3",
   "display_name": "Python 3.9.7 64-bit (windows store)"
  },
  "interpreter": {
   "hash": "55166b89102e3a34f9a04b9a18c78e7095207d8b65e378a9f3a9b0cc239810d7"
  }
 },
 "nbformat": 4,
 "nbformat_minor": 2
}