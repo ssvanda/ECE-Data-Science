{
 "cells": [
  {
   "cell_type": "code",
   "execution_count": 1,
   "source": [
    "!pip install numpy"
   ],
   "outputs": [
    {
     "output_type": "stream",
     "name": "stdout",
     "text": [
      "Requirement already satisfied: numpy in c:\\users\\skyle\\appdata\\local\\packages\\pythonsoftwarefoundation.python.3.9_qbz5n2kfra8p0\\localcache\\local-packages\\python39\\site-packages (1.21.2)\n"
     ]
    }
   ],
   "metadata": {}
  },
  {
   "cell_type": "code",
   "execution_count": 17,
   "source": [
    "# Problem 1: Hypothesis Testing\r\n",
    "# 1. \r\n",
    "import numpy as np\r\n",
    "myFile = open('engagement_1.txt')\r\n",
    "data = myFile.readlines()\r\n",
    "myFile.close()\r\n",
    "data = [float(x) for x in data]\r\n",
    "avg = np.mean(data)\r\n",
    "print(\"The mean of the data is \" + str(avg))\r\n"
   ],
   "outputs": [
    {
     "output_type": "stream",
     "name": "stdout",
     "text": [
      "The mean of the data is 0.7430304110448239\n"
     ]
    }
   ],
   "metadata": {}
  },
  {
   "cell_type": "markdown",
   "source": [
    "1. \r\n",
    "H0: u = .75 The average engagement of students who became knowledgeable in the material is .75 (null)\r\n",
    "H1: u!= .75 The average engagement of students who became knowledgeable in the material is not .75 (alt)\r\n",
    "\r\n",
    "We can use a hypothesis test to determine whether or not our null or alternative hypotheses are true."
   ],
   "metadata": {}
  },
  {
   "cell_type": "code",
   "execution_count": 44,
   "source": [
    "# Problem 1: Hypothesis Testing\r\n",
    "# 2.   \r\n",
    "u = .75\r\n",
    "# Report the sample size, \r\n",
    "# the sample mean, \r\n",
    "# the standard error, \r\n",
    "# the standard score, \r\n",
    "# and the p-value.\r\n",
    "import numpy as np\r\n",
    "from scipy.stats import norm\r\n",
    "myFile = open('engagement_1.txt')\r\n",
    "data = myFile.readlines()\r\n",
    "myFile.close()\r\n",
    "data = [float(x) for x in data]\r\n",
    "# finding sample size\r\n",
    "sampleSize = len(data)\r\n",
    "print(\"The sample size of the data is \" + str(sampleSize))\r\n",
    "# finding mean\r\n",
    "mean_of_data = np.mean(data)\r\n",
    "print(\"The mean of the data is \" + str(mean_of_data))\r\n",
    "# finding SD\r\n",
    "sd = np.std(data, ddof=1)\r\n",
    "#print(\"The standard deviation of the data is \" + str(sd))\r\n",
    "# finding the standard error\r\n",
    "SE = sd / np.sqrt(sampleSize)\r\n",
    "print(\"The standard error of the data is \" + str(SE))\r\n",
    "# finding the z score (standard score)\r\n",
    "ss = (mean_of_data - u)/SE\r\n",
    "print(\"The standard score of the data is \" + str(ss))\r\n",
    "#p = norm.cdf((ss))\r\n",
    "p = 2 * norm.cdf(-abs(ss))\r\n",
    "print(\"The p value of the data is \" + str(p))"
   ],
   "outputs": [
    {
     "output_type": "stream",
     "name": "stdout",
     "text": [
      "The sample size of the data is 937\n",
      "The mean of the data is 0.7430304110448239\n",
      "The standard error of the data is 0.004153027288269652\n",
      "The standard score of the data is -1.6781948375012814\n",
      "The p value of the data is 0.09330906925243751\n"
     ]
    }
   ],
   "metadata": {}
  },
  {
   "cell_type": "markdown",
   "source": [
    "#2. reject .1 null\r\n",
    "    fail to reject .05\r\n",
    "    fail to reject .01\r\n",
    "    At  a confidence level of 0.1 the result is significant, but at a confidence level of 0.01 and 0.05 it is not. We can reject the null hypothesis at an alpha level of 0.1 but we fail to reject it at 0.05 and 0.01."
   ],
   "metadata": {}
  },
  {
   "cell_type": "code",
   "execution_count": 28,
   "source": [
    "# Problem 1: Hypothesis Testing\r\n",
    "# 3.  \r\n",
    "p = 0.05 #confidence level\r\n",
    "# find the largest standard error at this level\r\n",
    "# find the minimum sample size\r\n",
    "z_c = norm.ppf(p)\r\n",
    "# use z score to find standard error\r\n",
    "minSE = (mean_of_data - u)/z_c\r\n",
    "print(\"The highest possible standard error with a confidence level of 0.05 is \" + str(minSE))\r\n",
    "minSampleSize = (sd/minSE)**2\r\n",
    "print(\"The lowest possible sample size with a confidence level of 0.05 is \" + str(minSampleSize))\r\n"
   ],
   "outputs": [
    {
     "output_type": "stream",
     "name": "stdout",
     "text": [
      "The highest possible standard error with a confidence level of 0.05 is 0.004237209220916103\n",
      "The lowest possible sample size with a confidence level of 0.05 is 900.1385114802096\n"
     ]
    }
   ],
   "metadata": {}
  },
  {
   "cell_type": "markdown",
   "source": [
    "#3. The largest standard error possible at a confidence level of 0.05 is .0042372 and the smallest possible sample size is 900.\r\n"
   ],
   "metadata": {}
  },
  {
   "cell_type": "code",
   "execution_count": null,
   "source": [
    "# Problem 1: Hypothesis Testing\r\n",
    "# 4. "
   ],
   "outputs": [],
   "metadata": {}
  },
  {
   "cell_type": "markdown",
   "source": [
    "#4.\r\n",
    "H0: u0 = u1 \r\n",
    "The average engagement of students who became knowledgeable in the material is different between engagement 1 and those who did not in engagement 2 (null)\r\n",
    "H1: u0!= u1\r\n",
    "The average engagement of students who became knowledgeable in the material is not different between engagement 1 and and those who did not in engagement 2 (alt)\r\n",
    "We can use a two sample z test to validate this belief.\r\n"
   ],
   "metadata": {}
  },
  {
   "cell_type": "code",
   "execution_count": 8,
   "source": [
    "# Problem 1: Hypothesis Testing\r\n",
    "# 5. \r\n",
    "import numpy as np\r\n",
    "from scipy.stats import norm\r\n",
    "from scipy.stats import t\r\n",
    "u = 0\r\n",
    "myFile = open('engagement_1.txt')\r\n",
    "data = myFile.readlines()\r\n",
    "myFile.close()\r\n",
    "engagement1 = [float(x) for x in data]\r\n",
    "engagement1Length = len(engagement1)\r\n",
    "print(\"The sample size of engagement 1 is \" + str(engagement1Length))\r\n",
    "engagement1Mean = np.mean(engagement1)\r\n",
    "print(\"The mean of engagement 1 is \" + str(engagement1Mean))\r\n",
    "engagement1SE = (np.std(engagement1, ddof=1)**2) / engagement1Length\r\n",
    "print(\"The standard error of engagement 1 is \" + str(engagement1SE))\r\n",
    "\r\n",
    "\r\n",
    "myFile = open('engagement_0.txt')\r\n",
    "data = myFile.readlines()\r\n",
    "myFile.close()\r\n",
    "engagement0 = [float(x) for x in data]\r\n",
    "engagement0Length = len(engagement0)\r\n",
    "print(\"The sample size of engagement 0 is \" + str(engagement0Length))\r\n",
    "engagement0Mean = np.mean(engagement0)\r\n",
    "print(\"The mean of engagement 0 is \" + str(engagement0Mean))\r\n",
    "engagement0SE = (np.std(engagement0, ddof=1)**2) / engagement0Length\r\n",
    "print(\"The standard error of engagement 0 is \" + str(engagement0SE))\r\n",
    "\r\n",
    "zScore = (engagement0Mean - engagement1Mean)/ (np.sqrt(engagement0SE + engagement1SE))\r\n",
    "print(\"The z score of the two populations is \" + str(zScore))\r\n",
    "\r\n",
    "#p = t.cdf(abs(zScore), (engagement0Length + engagement1Length))\r\n",
    "p = 2 * norm.cdf(-abs(zScore))\r\n",
    "print(\"The p value of the two populations is \" + str(p))\r\n"
   ],
   "outputs": [
    {
     "output_type": "stream",
     "name": "stdout",
     "text": [
      "The sample size of engagement 1 is 937\n",
      "The mean of engagement 1 is 0.7430304110448239\n",
      "The standard error of engagement 1 is 1.7247635657112375e-05\n",
      "The sample size of engagement 0 is 1977\n",
      "The mean of engagement 0 is 0.6399545077035914\n",
      "The standard error of engagement 0 is 3.2672536978964496e-05\n",
      "The z score of the two populations is -14.588784540028351\n",
      "The p value of the two populations is 3.3104307168195455e-48\n"
     ]
    }
   ],
   "metadata": {}
  },
  {
   "cell_type": "markdown",
   "source": [
    "#5.\r\n",
    "The sample size of engagement 1 is 937\r\n",
    "The mean of engagement 1 is 0.7430304110448239\r\n",
    "The standard error of engagement 1 is 1.7247635657112375e-05\r\n",
    "The sample size of engagement 0 is 1977\r\n",
    "The mean of engagement 0 is 0.6399545077035914\r\n",
    "The standard error of engagement 0 is 3.2672536978964496e-05\r\n",
    "The z score of the two populations is -14.588784540028351\r\n",
    "The p value of the two populations is 3.3104307168195455e-48\r\n",
    "Under the 0.1, 0.05, and 0.01 confidence levels, we can reject our null hypothesis of the average engagement of students who became knowledgeable in the material is different between engagement 1 and those who did not in engagement 2"
   ],
   "metadata": {}
  }
 ],
 "metadata": {
  "orig_nbformat": 4,
  "language_info": {
   "name": "python",
   "version": "3.9.7",
   "mimetype": "text/x-python",
   "codemirror_mode": {
    "name": "ipython",
    "version": 3
   },
   "pygments_lexer": "ipython3",
   "nbconvert_exporter": "python",
   "file_extension": ".py"
  },
  "kernelspec": {
   "name": "python3",
   "display_name": "Python 3.9.7 64-bit"
  },
  "interpreter": {
   "hash": "fe44fef87f92f48a3a32707d0df204585f471652bc0ce87358a3ce712bc24db0"
  }
 },
 "nbformat": 4,
 "nbformat_minor": 2
}